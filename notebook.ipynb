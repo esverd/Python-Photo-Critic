{
 "cells": [
  {
   "cell_type": "code",
   "execution_count": 37,
   "metadata": {},
   "outputs": [],
   "source": [
    "#pip install crewai==0.41.1\n",
    "#pip install langchain_groq \n",
    "\n",
    "#pip install crewai==0.64.0\n",
    "#pip install langchain==0.2.16\n",
    "#pip install crewai_tools \n",
    "#pip install langchain_community \n",
    "#pip install langchain_groq \n",
    "#pip install python-dotenv"
   ]
  },
  {
   "cell_type": "code",
   "execution_count": 28,
   "metadata": {},
   "outputs": [],
   "source": [
    "# Warning control\n",
    "import warnings\n",
    "warnings.filterwarnings('ignore')\n",
    "\n",
    "from crewai import Agent, Crew, Task, Process\n",
    "from langchain_groq import ChatGroq\n",
    "\n",
    "import os \n",
    "from dotenv import load_dotenv"
   ]
  },
  {
   "cell_type": "code",
   "execution_count": 29,
   "metadata": {},
   "outputs": [],
   "source": [
    "load_dotenv()\n",
    "\n",
    "# from langchain_groq import ChatGroq\n",
    "llm_sverd = ChatGroq(\n",
    "    api_key = os.getenv(\"GROQ_API_KEY\"),\n",
    "    # model = \"llama-3.1-70b-versatile\",\n",
    "    # model = \"llama3-groq-70b-8192-tool-use-preview\",\n",
    "    # model = \"llama-3.2-90b-vision-preview\",\n",
    "    model = \"llama-3.1-8b-instant\",\n",
    "    # model = \"llama3-8b-8192\",\n",
    "    temperature = 0.4\n",
    "       )\n",
    "\n",
    "\n",
    "# os.environ[OPENAI_API_KEY]=os.getenv(\"GROQ_API_KEY\")\n",
    "# os.environ[OPENAI_MODEL_NAME]='llama3-8b-8192'\n",
    "# os.environ[OPENAI_API_BASE]=https://api.groq.com/openai/v1"
   ]
  },
  {
   "cell_type": "code",
   "execution_count": 14,
   "metadata": {},
   "outputs": [],
   "source": [
    "from crewai_tools import VisionTool\n",
    "\n",
    "vision_tool = VisionTool()"
   ]
  },
  {
   "cell_type": "code",
   "execution_count": 31,
   "metadata": {},
   "outputs": [],
   "source": [
    "from langchain_google_genai import ChatGoogleGenerativeAI\n",
    "\n",
    "llm_sverd = ChatGoogleGenerativeAI(\n",
    "    model=\"gemini-pro\", verbose=True, temperature=0.9, google_api_key=os.getenv(\"GEMINI_API_KEY\")\n",
    ")"
   ]
  },
  {
   "cell_type": "code",
   "execution_count": 8,
   "metadata": {},
   "outputs": [],
   "source": [
    "from crewai import LLM\n",
    "\n",
    "llm_sverd = LLM(\n",
    "    model=\"custom-model-name\",\n",
    "    api_key=\"your-api-key\",\n",
    "    base_url=\"https://api.your-provider.com/v1\"\n",
    ")"
   ]
  },
  {
   "cell_type": "code",
   "execution_count": 30,
   "metadata": {},
   "outputs": [
    {
     "name": "stderr",
     "output_type": "stream",
     "text": [
      "2024-10-26 18:07:24,442 - 23188 - llm.py-llm:178 - ERROR: Failed to get supported params: argument of type 'NoneType' is not iterable\n"
     ]
    },
    {
     "name": "stdout",
     "output_type": "stream",
     "text": [
      "\n",
      "\u001b[1;31mProvider List: https://docs.litellm.ai/docs/providers\u001b[0m\n",
      "\n"
     ]
    }
   ],
   "source": [
    "agent_image_extractor = Agent(\n",
    "    llm = llm_sverd,   #getting some error message when defining llm, both for groq and gemini\n",
    "    role=\"Image Text Extraction Specialist\",\n",
    "    goal=\"Thoroughly analyze any pictures you receive\",\n",
    "    backstory=(\n",
    "        \"\"\"You are an expert in text extraction, specializing in using AI to process and analyze textual content from images. \n",
    "            Make sure you use the tools provided.\"\"\"\n",
    "    ),\n",
    "    # tools=[search_tool, scrape_tool, pdf_search_tool, read_directory_tool],\n",
    "    verbose=True,\n",
    "    memory=True,\n",
    ")\n"
   ]
  },
  {
   "cell_type": "code",
   "execution_count": 6,
   "metadata": {},
   "outputs": [
    {
     "ename": "NameError",
     "evalue": "name 'vision_tool' is not defined",
     "output_type": "error",
     "traceback": [
      "\u001b[1;31m---------------------------------------------------------------------------\u001b[0m",
      "\u001b[1;31mNameError\u001b[0m                                 Traceback (most recent call last)",
      "Cell \u001b[1;32mIn[6], line 8\u001b[0m\n\u001b[0;32m      1\u001b[0m task_review_image \u001b[38;5;241m=\u001b[39m Task(\n\u001b[0;32m      2\u001b[0m     description\u001b[38;5;241m=\u001b[39m(\n\u001b[0;32m      3\u001b[0m \u001b[38;5;250m        \u001b[39m\u001b[38;5;124;03m\"\"\"Extract text from the provided image file. Ensure that the extracted text is accurate and complete,\u001b[39;00m\n\u001b[0;32m      4\u001b[0m \u001b[38;5;124;03m        and ready for any further analysis or processing tasks. The image file provided may contain\u001b[39;00m\n\u001b[0;32m      5\u001b[0m \u001b[38;5;124;03m        various text elements, so it's crucial to capture all readable text.\"\"\"\u001b[39;00m\n\u001b[0;32m      6\u001b[0m     ),\n\u001b[0;32m      7\u001b[0m     expected_output\u001b[38;5;241m=\u001b[39m\u001b[38;5;124m\"\"\"\u001b[39m\u001b[38;5;124mA string containing the full text extracted from the image.\u001b[39m\u001b[38;5;124m\"\"\"\u001b[39m,\n\u001b[1;32m----> 8\u001b[0m     tools\u001b[38;5;241m=\u001b[39m[\u001b[43mvision_tool\u001b[49m],\n\u001b[0;32m      9\u001b[0m     agent\u001b[38;5;241m=\u001b[39magent_image_extractor\n\u001b[0;32m     10\u001b[0m )\n",
      "\u001b[1;31mNameError\u001b[0m: name 'vision_tool' is not defined"
     ]
    }
   ],
   "source": [
    "task_review_image = Task(\n",
    "    description=(\n",
    "        \"\"\"Extract text from the provided image file. Ensure that the extracted text is accurate and complete,\n",
    "        and ready for any further analysis or processing tasks. The image file provided may contain\n",
    "        various text elements, so it's crucial to capture all readable text.\"\"\"\n",
    "    ),\n",
    "    expected_output=\"\"\"A string containing the full text extracted from the image.\"\"\",\n",
    "    tools=[vision_tool],\n",
    "    agent=agent_image_extractor\n",
    ")"
   ]
  },
  {
   "cell_type": "code",
   "execution_count": 31,
   "metadata": {},
   "outputs": [
    {
     "name": "stderr",
     "output_type": "stream",
     "text": [
      "2024-10-26 18:07:28,772 - 23188 - llm.py-llm:178 - ERROR: Failed to get supported params: argument of type 'NoneType' is not iterable\n"
     ]
    },
    {
     "name": "stdout",
     "output_type": "stream",
     "text": [
      "\n",
      "\u001b[1;31mProvider List: https://docs.litellm.ai/docs/providers\u001b[0m\n",
      "\n"
     ]
    }
   ],
   "source": [
    "from crewai import Agent\n",
    "\n",
    "class MockLLM:\n",
    "    def __call__(self, prompt):\n",
    "        return \"This is a mock LLM response.\"\n",
    "\n",
    "llm = MockLLM()\n",
    "\n",
    "test_agent = Agent(\n",
    "    llm=llm,\n",
    "    role=\"Image Text Extraction Specialist\",\n",
    "    goal=\"Thoroughly analyze any pictures you receive\",\n",
    "    backstory=(\n",
    "        \"\"\"You are an expert in text extraction\"\"\"\n",
    "    ),\n",
    ")\n",
    "\n",
    "\n"
   ]
  }
 ],
 "metadata": {
  "kernelspec": {
   "display_name": ".venv4",
   "language": "python",
   "name": "python3"
  },
  "language_info": {
   "codemirror_mode": {
    "name": "ipython",
    "version": 3
   },
   "file_extension": ".py",
   "mimetype": "text/x-python",
   "name": "python",
   "nbconvert_exporter": "python",
   "pygments_lexer": "ipython3",
   "version": "3.11.4"
  }
 },
 "nbformat": 4,
 "nbformat_minor": 2
}
