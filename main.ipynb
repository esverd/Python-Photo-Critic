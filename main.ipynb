{
 "cells": [
  {
   "cell_type": "code",
   "execution_count": 1,
   "metadata": {},
   "outputs": [
    {
     "ename": "SyntaxError",
     "evalue": "invalid syntax (2580200474.py, line 2)",
     "output_type": "error",
     "traceback": [
      "\u001b[1;36m  Cell \u001b[1;32mIn[1], line 2\u001b[1;36m\u001b[0m\n\u001b[1;33m    pip install crewai_tools langchain_community langchain_groq python-dotenv\u001b[0m\n\u001b[1;37m        ^\u001b[0m\n\u001b[1;31mSyntaxError\u001b[0m\u001b[1;31m:\u001b[0m invalid syntax\n"
     ]
    }
   ],
   "source": [
    "#pip install crewai==0.41.1\n",
    "#pip install langchain_groq \n",
    "\n",
    "#pip install crewai==0.64.0\n",
    "#pip install langchain==0.2.16\n",
    "#pip install crewai_tools \n",
    "#pip install langchain_community \n",
    "#pip install langchain_groq \n",
    "#pip install python-dotenv"
   ]
  },
  {
   "cell_type": "code",
   "execution_count": 2,
   "metadata": {},
   "outputs": [],
   "source": [
    "# Warning control\n",
    "import warnings\n",
    "warnings.filterwarnings('ignore')\n",
    "\n",
    "from crewai import Agent, Crew, Task, Process\n",
    "from langchain_groq import ChatGroq\n",
    "\n",
    "import os \n",
    "from dotenv import load_dotenv"
   ]
  },
  {
   "cell_type": "code",
   "execution_count": 18,
   "metadata": {},
   "outputs": [],
   "source": [
    "load_dotenv()\n",
    "\n",
    "import litellm\n",
    "# from langchain_groq import ChatGroq\n",
    "llm_sverd = ChatGroq(\n",
    "    api_key = os.getenv(\"GROQ_API_KEY\"),\n",
    "    # model = \"llama-3.1-70b-versatile\",\n",
    "    # model = \"llama3-groq-70b-8192-tool-use-preview\",\n",
    "    # model = \"llama-3.2-90b-vision-preview\",\n",
    "    model = \"llama-3.1-8b-instant\",\n",
    "    # model = \"llama3-8b-8192\",\n",
    "    temperature = 0.4\n",
    "       )\n",
    "\n",
    "\n",
    "# os.environ[OPENAI_API_KEY]=os.getenv(\"GROQ_API_KEY\")\n",
    "# os.environ[OPENAI_MODEL_NAME]='llama3-8b-8192'\n",
    "# os.environ[OPENAI_API_BASE]=https://api.groq.com/openai/v1"
   ]
  },
  {
   "cell_type": "code",
   "execution_count": 4,
   "metadata": {},
   "outputs": [],
   "source": [
    "from crewai_tools import VisionTool\n",
    "\n",
    "vision_tool = VisionTool()"
   ]
  },
  {
   "cell_type": "code",
   "execution_count": 31,
   "metadata": {},
   "outputs": [],
   "source": [
    "from langchain_google_genai import ChatGoogleGenerativeAI\n",
    "\n",
    "llm_sverd = ChatGoogleGenerativeAI(\n",
    "    model=\"gemini-pro\", verbose=True, temperature=0.9, google_api_key=os.getenv(\"GEMINI_API_KEY\")\n",
    ")"
   ]
  },
  {
   "cell_type": "code",
   "execution_count": 32,
   "metadata": {},
   "outputs": [
    {
     "name": "stderr",
     "output_type": "stream",
     "text": [
      "2024-10-26 16:12:03,116 - 28908 - llm.py-llm:178 - ERROR: Failed to get supported params: argument of type 'NoneType' is not iterable\n"
     ]
    },
    {
     "name": "stdout",
     "output_type": "stream",
     "text": [
      "\n",
      "\u001b[1;31mProvider List: https://docs.litellm.ai/docs/providers\u001b[0m\n",
      "\n"
     ]
    }
   ],
   "source": [
    "agent_image_extractor = Agent(\n",
    "    llm = llm_sverd,   #getting some error message when defining llm, both for groq and gemini\n",
    "    role=\"Image Text Extraction Specialist\",\n",
    "    goal=\"Thoroughly analyze any pictures you receive\",\n",
    "    backstory=(\n",
    "        \"\"\"You are an expert in text extraction, specializing in using AI to process and analyze textual content from images. \n",
    "            Make sure you use the tools provided.\"\"\"\n",
    "    ),\n",
    "    # tools=[search_tool, scrape_tool, pdf_search_tool, read_directory_tool],\n",
    "    verbose=True,\n",
    "    memory=True,\n",
    "    \n",
    ")\n"
   ]
  },
  {
   "cell_type": "code",
   "execution_count": 9,
   "metadata": {},
   "outputs": [],
   "source": [
    "task_review_image = Task(\n",
    "    description=(\n",
    "        \"\"\"Extract text from the provided image file. Ensure that the extracted text is accurate and complete,\n",
    "        and ready for any further analysis or processing tasks. The image file provided may contain\n",
    "        various text elements, so it's crucial to capture all readable text.\"\"\"\n",
    "    ),\n",
    "    expected_output=\"\"\"A string containing the full text extracted from the image.\"\"\",\n",
    "    tools=[vision_tool],\n",
    "    agent=agent_image_extractor\n",
    ")"
   ]
  }
 ],
 "metadata": {
  "kernelspec": {
   "display_name": ".venv3",
   "language": "python",
   "name": "python3"
  },
  "language_info": {
   "codemirror_mode": {
    "name": "ipython",
    "version": 3
   },
   "file_extension": ".py",
   "mimetype": "text/x-python",
   "name": "python",
   "nbconvert_exporter": "python",
   "pygments_lexer": "ipython3",
   "version": "3.11.4"
  }
 },
 "nbformat": 4,
 "nbformat_minor": 2
}
