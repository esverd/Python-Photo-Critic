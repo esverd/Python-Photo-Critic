{
 "cells": [
  {
   "cell_type": "code",
   "execution_count": null,
   "metadata": {},
   "outputs": [],
   "source": [
    "# pip install crewai crewai_tools langchain_community langchain_groq python-dotenv"
   ]
  },
  {
   "cell_type": "code",
   "execution_count": null,
   "metadata": {},
   "outputs": [],
   "source": [
    "# Warning control\n",
    "import warnings\n",
    "warnings.filterwarnings('ignore')\n",
    "\n",
    "from crewai import Agent, Crew, Task, Process\n",
    "from langchain_groq import ChatGroq"
   ]
  },
  {
   "cell_type": "code",
   "execution_count": null,
   "metadata": {},
   "outputs": [],
   "source": [
    "import os \n",
    "from dotenv import load_dotenv\n",
    "load_dotenv()\n",
    "\n",
    "# from langchain_groq import ChatGroq\n",
    "llm_sverd = ChatGroq(\n",
    "    api_key = os.getenv(\"GROQ_API_KEY\"),\n",
    "    # model = \"llama-3.1-70b-versatile\",\n",
    "    model = \"llama3-groq-70b-8192-tool-use-preview\",\n",
    "    # model = \"llama-3.1-8b-instant\",\n",
    "    # model = \"llama3-8b-8192\",\n",
    "    temperature = 0.4\n",
    "       )\n",
    "\n",
    "\n",
    "# os.environ[OPENAI_API_KEY]=os.getenv(\"GROQ_API_KEY\")\n",
    "# os.environ[OPENAI_MODEL_NAME]='llama3-8b-8192'\n",
    "# os.environ[OPENAI_API_BASE]=https://api.groq.com/openai/v1"
   ]
  }
 ],
 "metadata": {
  "language_info": {
   "name": "python"
  }
 },
 "nbformat": 4,
 "nbformat_minor": 2
}
